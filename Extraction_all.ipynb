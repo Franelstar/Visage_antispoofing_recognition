{
  "nbformat": 4,
  "nbformat_minor": 0,
  "metadata": {
    "colab": {
      "name": "Extraction_all_ok.ipynb",
      "provenance": [],
      "collapsed_sections": []
    },
    "kernelspec": {
      "name": "python3",
      "display_name": "Python 3"
    }
  },
  "cells": [
    {
      "cell_type": "code",
      "metadata": {
        "colab": {
          "base_uri": "https://localhost:8080/"
        },
        "id": "Ixf1vb8C1vPH",
        "outputId": "8029f494-32f2-4124-fc07-312172f0d1a7"
      },
      "source": [
        "import tensorflow as tf\n",
        "from skimage import io\n",
        "from tensorflow.keras.preprocessing import image\n",
        "import numpy as np\n",
        "from tensorflow.keras.models import Model\n",
        "import os\n",
        "from tqdm import tqdm\n",
        "from tensorflow.keras.preprocessing.image import ImageDataGenerator\n",
        "import matplotlib.pyplot as plt\n",
        "\n",
        "import cv2 as cv\n",
        "from skimage import feature as skif\n",
        "from google.colab import drive\n",
        "drive.mount('/content/drive')\n",
        "import random"
      ],
      "execution_count": null,
      "outputs": [
        {
          "output_type": "stream",
          "text": [
            "Mounted at /content/drive\n"
          ],
          "name": "stdout"
        }
      ]
    },
    {
      "cell_type": "code",
      "metadata": {
        "colab": {
          "base_uri": "https://localhost:8080/"
        },
        "id": "BY_efXp12AuK",
        "outputId": "1b84b690-472f-4032-b300-409dd3e380dc"
      },
      "source": [
        "print(tf.__version__)"
      ],
      "execution_count": null,
      "outputs": [
        {
          "output_type": "stream",
          "text": [
            "2.4.1\n"
          ],
          "name": "stdout"
        }
      ]
    },
    {
      "cell_type": "code",
      "metadata": {
        "id": "vkemUG342LDk"
      },
      "source": [
        "model_loaded = tf.keras.models.load_model('/content/drive/MyDrive/Dataset/anti_spoofing/feature_extraction.h5')"
      ],
      "execution_count": null,
      "outputs": []
    },
    {
      "cell_type": "code",
      "metadata": {
        "colab": {
          "base_uri": "https://localhost:8080/"
        },
        "id": "fezA3QF-2SVP",
        "outputId": "c155ed51-ac1f-4c81-f8b4-c70362380f92"
      },
      "source": [
        "model_loaded.summary()"
      ],
      "execution_count": null,
      "outputs": [
        {
          "output_type": "stream",
          "text": [
            "Model: \"sequential_2\"\n",
            "_________________________________________________________________\n",
            "Layer (type)                 Output Shape              Param #   \n",
            "=================================================================\n",
            "inception_v3 (Functional)    (None, 5, 5, 2048)        21802784  \n",
            "_________________________________________________________________\n",
            "global_average_pooling2d_2 ( (None, 2048)              0         \n",
            "_________________________________________________________________\n",
            "dropout_2 (Dropout)          (None, 2048)              0         \n",
            "_________________________________________________________________\n",
            "dense_5 (Dense)              (None, 1024)              2098176   \n",
            "_________________________________________________________________\n",
            "dropout_3 (Dropout)          (None, 1024)              0         \n",
            "_________________________________________________________________\n",
            "dense_6 (Dense)              (None, 256)               262400    \n",
            "_________________________________________________________________\n",
            "dense_7 (Dense)              (None, 1)                 257       \n",
            "=================================================================\n",
            "Total params: 24,163,617\n",
            "Trainable params: 2,360,833\n",
            "Non-trainable params: 21,802,784\n",
            "_________________________________________________________________\n"
          ],
          "name": "stdout"
        }
      ]
    },
    {
      "cell_type": "code",
      "metadata": {
        "id": "_5hJ_lhw2VAU"
      },
      "source": [
        "# datagen = ImageDataGenerator(rescale=1./255)\n",
        "datagen = ImageDataGenerator()\n",
        "batch_size = 32\n",
        "img_width = 224\n",
        "img_height = 224\n",
        "\n",
        "layer_name = 'dense_6'\n",
        "intermediate_layer_model = Model(inputs=model_loaded.input, outputs=model_loaded.get_layer(layer_name).output)"
      ],
      "execution_count": null,
      "outputs": []
    },
    {
      "cell_type": "code",
      "metadata": {
        "id": "niAABB2U2Ybg"
      },
      "source": [
        "# Calcul de l'histograme LBP\n",
        "\n",
        "def lbp_histogram(image, P=8, R=1, method='nri_uniform'):\n",
        "    '''\n",
        "    image: shape is N*M \n",
        "    '''\n",
        "    lbp = skif.local_binary_pattern(image, P,R, method) # lbp.shape is equal image.shape\n",
        "    # cv2.imwrite(\"lbp.png\",lbp)\n",
        "    # plt.imshow(lbp)\n",
        "    max_bins = int(lbp.max() + 1) # max_bins is related P\n",
        "    hist, _ = np.histogram(lbp,  density=True, bins=max_bins, range=(0, max_bins))\n",
        "    return lbp, hist"
      ],
      "execution_count": null,
      "outputs": []
    },
    {
      "cell_type": "code",
      "metadata": {
        "id": "W0bIr92M2aMH"
      },
      "source": [
        "def extract_features(directory, intermediate_layer_model):\n",
        "  person_content = ['live/', 'spoof/']\n",
        "  label = {'live/': 0, 'spoof/': 1}\n",
        "  liste_images_classe = []\n",
        "  features = []\n",
        "  labels = []\n",
        "\n",
        "  for folder in person_content:\n",
        "      list_person_folder = os.listdir(directory+folder)\n",
        "      for im_name in list_person_folder:\n",
        "        if im_name.split('.')[1] in ['png', 'jpg']: \n",
        "          imag = [os.path.join(directory+folder, im_name), label[folder]]\n",
        "          liste_images_classe.append(imag)\n",
        "\n",
        "  random.shuffle(liste_images_classe)\n",
        "\n",
        "  # Pass data through convolutional base\n",
        "  with tqdm(total=len(liste_images_classe), desc=\"Chargement en cour ...\", bar_format=\"{l_bar}{bar} [ time left: {remaining} ]\") as pbar:\n",
        "    for one_image in liste_images_classe:\n",
        "      picture = cv.imread(one_image[0])\n",
        "\n",
        "      # Extraction de LBP\n",
        "      image_y = cv.cvtColor(picture, cv.COLOR_BGR2YCrCb)\n",
        "      lbp_y, y_h = lbp_histogram(image_y[:,:,0]) # y channel\n",
        "      lbp_cb, cb_h = lbp_histogram(image_y[:,:,1]) # cb channel\n",
        "      lbp_cr, cr_h = lbp_histogram(image_y[:,:,2]) # cr channel\n",
        "      feature_lbp = np.concatenate((y_h, cb_h, cr_h))\n",
        "\n",
        "      # Extraction de caractéristiques de tensorflow\n",
        "      picture = cv.cvtColor(picture, cv.COLOR_BGR2RGB)\n",
        "      img = tf.image.resize(picture, [224, 224], method='nearest')\n",
        "      X = image.img_to_array(img)\n",
        "      X = np.expand_dims(X, axis=0)\n",
        "      images = np.vstack([X])\n",
        "      images = images / 255\n",
        "      feature_tensorflow = intermediate_layer_model.predict([images])[0]\n",
        "\n",
        "      if len(feature_lbp) == 177:\n",
        "          feature_final = np.concatenate((feature_lbp, feature_tensorflow), axis=None)\n",
        "          features.append(feature_final)\n",
        "          labels.append(one_image[1])\n",
        "      pbar.update(1)\n",
        "\n",
        "  return features, labels"
      ],
      "execution_count": null,
      "outputs": []
    },
    {
      "cell_type": "code",
      "metadata": {
        "colab": {
          "base_uri": "https://localhost:8080/"
        },
        "id": "iakdGK0V2c38",
        "outputId": "b1e4d944-0a75-4523-862c-0332b583e9a4"
      },
      "source": [
        "train_dir = \"/content/drive/MyDrive/Dataset/anti_spoofing/train/\"\n",
        "train_features, train_labels = extract_features(train_dir, intermediate_layer_model)"
      ],
      "execution_count": null,
      "outputs": [
        {
          "output_type": "stream",
          "text": [
            "Chargement en cour ...: 100%|██████████ [ time left: 00:00 ]\n"
          ],
          "name": "stderr"
        }
      ]
    },
    {
      "cell_type": "code",
      "metadata": {
        "id": "QbptsFUd2mdJ"
      },
      "source": [
        "np.save(\"/content/drive/MyDrive/Dataset/anti_spoofing/train/features_all_train.npy\", np.array(train_features))\n",
        "np.save(\"/content/drive/MyDrive/Dataset/anti_spoofing/train/labels_all_train.npy\", np.array(train_labels))"
      ],
      "execution_count": null,
      "outputs": []
    },
    {
      "cell_type": "code",
      "metadata": {
        "colab": {
          "base_uri": "https://localhost:8080/"
        },
        "id": "A9JHfkn43cto",
        "outputId": "d7eddc0f-02fc-4250-de4b-9a536433d4bb"
      },
      "source": [
        "test_dir = \"/content/drive/MyDrive/Dataset/anti_spoofing/test/\"\n",
        "test_features, test_labels = extract_features(test_dir, intermediate_layer_model)"
      ],
      "execution_count": null,
      "outputs": [
        {
          "output_type": "stream",
          "text": [
            "Chargement en cour ...: 100%|██████████ [ time left: 00:00 ]\n"
          ],
          "name": "stderr"
        }
      ]
    },
    {
      "cell_type": "code",
      "metadata": {
        "id": "axAF9DiGirQF"
      },
      "source": [
        "np.save(\"/content/drive/MyDrive/Dataset/anti_spoofing/test/features_all_test.npy\", test_features)\n",
        "np.save(\"/content/drive/MyDrive/Dataset/anti_spoofing/test/labels_all_test.npy\", test_labels)"
      ],
      "execution_count": null,
      "outputs": []
    },
    {
      "cell_type": "code",
      "metadata": {
        "id": "YfEZFXve0A_0"
      },
      "source": [
        ""
      ],
      "execution_count": null,
      "outputs": []
    }
  ]
}